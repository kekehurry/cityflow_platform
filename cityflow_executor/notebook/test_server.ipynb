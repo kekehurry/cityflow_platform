{
 "cells": [
  {
   "cell_type": "code",
   "execution_count": 20,
   "metadata": {},
   "outputs": [],
   "source": [
    "import requests\n",
    "server_url = \"http://localhost:8000\"\n",
    "session_id = '91ab8896-ccbc-4e71-8929-f45855fb15c4'"
   ]
  },
  {
   "cell_type": "code",
   "execution_count": 3,
   "metadata": {},
   "outputs": [],
   "source": [
    "import docker\n",
    "client = docker.from_env()"
   ]
  },
  {
   "cell_type": "code",
   "execution_count": 21,
   "metadata": {},
   "outputs": [
    {
     "name": "stdout",
     "output_type": "stream",
     "text": [
      "{'console': \"Collecting numpy\\n  Downloading numpy-2.2.0-cp313-cp313-manylinux_2_17_aarch64.manylinux2014_aarch64.whl.metadata (63 kB)\\nDownloading numpy-2.2.0-cp313-cp313-manylinux_2_17_aarch64.manylinux2014_aarch64.whl (14.0 MB)\\n   ━━━━━━━━━━━━━━━━━━━━━━━━━━━━━━━━━━━━━━━━ 14.0/14.0 MB 2.6 MB/s eta 0:00:00\\nInstalling collected packages: numpy\\nSuccessfully installed numpy-2.2.0\\nWARNING: Running pip as the 'root' user can result in broken permissions and conflicting behaviour with the system package manager, possibly rendering your system unusable.It is recommended to use a virtual environment instead: https://pip.pypa.io/warnings/venv. Use the --root-user-action option if you know what you are doing and want to suppress this warning.\\nCollecting pandas\\n  Downloading pandas-2.2.3-cp313-cp313-manylinux2014_aarch64.manylinux_2_17_aarch64.whl.metadata (89 kB)\\nRequirement already satisfied: numpy>=1.26.0 in /usr/local/lib/python3.13/site-packages (from pandas) (2.2.0)\\nCollecting python-dateutil>=2.8.2 (from pandas)\\n  Downloading python_dateutil-2.9.0.post0-py2.py3-none-any.whl.metadata (8.4 kB)\\nCollecting pytz>=2020.1 (from pandas)\\n  Downloading pytz-2024.2-py2.py3-none-any.whl.metadata (22 kB)\\nCollecting tzdata>=2022.7 (from pandas)\\n  Downloading tzdata-2024.2-py2.py3-none-any.whl.metadata (1.4 kB)\\nCollecting six>=1.5 (from python-dateutil>=2.8.2->pandas)\\n  Downloading six-1.17.0-py2.py3-none-any.whl.metadata (1.7 kB)\\nDownloading pandas-2.2.3-cp313-cp313-manylinux2014_aarch64.manylinux_2_17_aarch64.whl (15.2 MB)\\n   ━━━━━━━━━━━━━━━━━━━━━━━━━━━━━━━━━━━━━━━━ 15.2/15.2 MB 2.6 MB/s eta 0:00:00\\nDownloading python_dateutil-2.9.0.post0-py2.py3-none-any.whl (229 kB)\\nDownloading pytz-2024.2-py2.py3-none-any.whl (508 kB)\\nDownloading tzdata-2024.2-py2.py3-none-any.whl (346 kB)\\nDownloading six-1.17.0-py2.py3-none-any.whl (11 kB)\\nInstalling collected packages: pytz, tzdata, six, python-dateutil, pandas\\nSuccessfully installed pandas-2.2.3 python-dateutil-2.9.0.post0 pytz-2024.2 six-1.17.0 tzdata-2024.2\\nWARNING: Running pip as the 'root' user can result in broken permissions and conflicting behaviour with the system package manager, possibly rendering your system unusable.It is recommended to use a virtual environment instead: https://pip.pypa.io/warnings/venv. Use the --root-user-action option if you know what you are doing and want to suppress this warning.\\n\", 'container_name': 'csflow-91ab8896-ccbc-4e71-8929-f45855fb15c4', 'exit_code': 0, 'output': ''}\n"
     ]
    }
   ],
   "source": [
    "response = requests.post(server_url + \"/setup\", json={\"session_id\": session_id, \"packages\": [\"numpy\", \"pandas\"],\"language\": \"python\"})\n",
    "print(response.json())"
   ]
  },
  {
   "cell_type": "code",
   "execution_count": 22,
   "metadata": {},
   "outputs": [
    {
     "name": "stdout",
     "output_type": "stream",
     "text": [
      "{'console': '[0.71684392 0.40323118 0.06093366 0.19381175 0.41089875]\\n', 'container_name': 'csflow-91ab8896-ccbc-4e71-8929-f45855fb15c4', 'exit_code': 0, 'output': ''}\n"
     ]
    }
   ],
   "source": [
    "code_blocks = [\n",
    "{\n",
    "    \"code\":'''\n",
    "import numpy as np\n",
    "print(np.random.rand(5))\n",
    "''',\n",
    "\"language\": \"python\"\n",
    "}\n",
    "]\n",
    "response = requests.post(server_url + \"/execute\", json={\"code_blocks\": code_blocks,\"session_id\": session_id})\n",
    "print(response.json())"
   ]
  },
  {
   "cell_type": "code",
   "execution_count": 23,
   "metadata": {},
   "outputs": [
    {
     "name": "stdout",
     "output_type": "stream",
     "text": [
      "{'console': 'Hello, World!\\n', 'container_name': 'csflow-91ab8896-ccbc-4e71-8929-f45855fb15c4', 'exit_code': 0, 'output': 'Hello, World!hahaha'}\n"
     ]
    }
   ],
   "source": [
    "code_blocks = [\n",
    "{\n",
    "    \"code\":'''\n",
    "with open(\"input\") as f:\n",
    "    a = f.read()\n",
    "    print(a)\n",
    "with open(\"output\", \"w\") as f:\n",
    "    f.write(a+\"hahaha\")\n",
    "''',\n",
    "\"language\": \"python\",\n",
    "\"files\": [{\n",
    "    \"name\": \"input\",\n",
    "    \"content\": \"Hello, World!\"\n",
    "}]\n",
    "}\n",
    "]\n",
    "response = requests.post(server_url + \"/execute\", json={\"code_blocks\": code_blocks, \"session_id\": session_id})\n",
    "print(response.json())"
   ]
  },
  {
   "cell_type": "code",
   "execution_count": 24,
   "metadata": {},
   "outputs": [
    {
     "name": "stdout",
     "output_type": "stream",
     "text": [
      "{'container_name': 'csflow-91ab8896-ccbc-4e71-8929-f45855fb15c4', 'last_update': 1733710282.177977}\n"
     ]
    }
   ],
   "source": [
    "response = requests.post(server_url + \"/keep_alive\", json={\"session_id\": session_id})\n",
    "print(response.json())"
   ]
  },
  {
   "cell_type": "code",
   "execution_count": 25,
   "metadata": {},
   "outputs": [
    {
     "name": "stdout",
     "output_type": "stream",
     "text": [
      "{'container_name': 'csflow-91ab8896-ccbc-4e71-8929-f45855fb15c4', 'exit_code': 0, 'output': 'Container has been removed.'}\n"
     ]
    }
   ],
   "source": [
    "response = requests.post(server_url + \"/kill\", json={\"session_id\": session_id})\n",
    "print(response.json())"
   ]
  },
  {
   "cell_type": "code",
   "execution_count": null,
   "metadata": {},
   "outputs": [],
   "source": []
  }
 ],
 "metadata": {
  "kernelspec": {
   "display_name": "pytorch",
   "language": "python",
   "name": "python3"
  },
  "language_info": {
   "codemirror_mode": {
    "name": "ipython",
    "version": 3
   },
   "file_extension": ".py",
   "mimetype": "text/x-python",
   "name": "python",
   "nbconvert_exporter": "python",
   "pygments_lexer": "ipython3",
   "version": "3.8.18"
  }
 },
 "nbformat": 4,
 "nbformat_minor": 2
}
